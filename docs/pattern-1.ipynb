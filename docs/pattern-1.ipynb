{
 "cells": [
  {
   "cell_type": "markdown",
   "id": "6b6e9ed6",
   "metadata": {},
   "source": [
    "# Pattern 1 - single input, single output\n",
    "\n",
    "The CWL includes:\n",
    "\n",
    "- input parameter of type `Directory`;\n",
    "- output parameter of type `Directory`.\n",
    "\n",
    "# Building the Worflow"
   ]
  },
  {
   "cell_type": "code",
   "execution_count": null,
   "id": "df7706ae",
   "metadata": {},
   "outputs": [
    {
     "name": "stdout",
     "output_type": "stream",
     "text": [
      "Loading CWL document from https://raw.githubusercontent.com/EOEPCA/eoap-cwlwrap/refs/heads/main/tests/templates/stage-in.cwl...\n",
      "Raw CWL document successfully loaded from https://raw.githubusercontent.com/EOEPCA/eoap-cwlwrap/refs/heads/main/tests/templates/stage-in.cwl! Now updating the model to v1.2...\n",
      "Raw CWL document successfully updated! Now converting to the CWL model...\n",
      "Raw CWL document successfully updated! Now dereferencing the FQNs...\n",
      "  Cleaning CommandLineTool my-asthonishing-stage-in...\n",
      "CWL document successfully dereferenced!\n",
      "Loading CWL document from https://raw.githubusercontent.com/EOEPCA/eoap-cwlwrap/refs/heads/main/tests/pattern-1/workflow.cwl...\n",
      "Raw CWL document successfully loaded from https://raw.githubusercontent.com/EOEPCA/eoap-cwlwrap/refs/heads/main/tests/pattern-1/workflow.cwl! Now updating the model to v1.2...\n",
      "Raw CWL document successfully updated! Now converting to the CWL model...\n",
      "Raw CWL document successfully updated! Now dereferencing the FQNs...\n",
      "  Cleaning Workflow pattern-1...\n",
      "  Cleaning CommandLineTool clt...\n",
      "CWL document successfully dereferenced!\n",
      "Loading CWL document from https://raw.githubusercontent.com/EOEPCA/eoap-cwlwrap/refs/heads/main/tests/templates/stage-out.cwl...\n",
      "Raw CWL document successfully loaded from https://raw.githubusercontent.com/EOEPCA/eoap-cwlwrap/refs/heads/main/tests/templates/stage-out.cwl! Now updating the model to v1.2...\n",
      "Raw CWL document successfully updated! Now converting to the CWL model...\n",
      "Raw CWL document successfully updated! Now dereferencing the FQNs...\n",
      "  Cleaning CommandLineTool my-super-stage-out...\n",
      "CWL document successfully dereferenced!\n",
      "Validating stage-in 'my-asthonishing-stage-in'...\n",
      "stage-in 'my-asthonishing-stage-in' is valid\n",
      "Validating stage-out 'my-super-stage-out'...\n",
      "stage-out 'my-super-stage-out' is valid\n",
      "Building the CWL Orchestrator Workflow...\n",
      "Analyzing pattern-1 inputs:\n",
      "* pattern-1/aoi: string\n",
      "* pattern-1/epsg: string\n",
      "* pattern-1/bands: string[]\n",
      "* pattern-1/item: Directory\n",
      "  Directory type detected, creating a related 'stage_in_0'...\n",
      "  Converting Directory to URL-compatible type...\n",
      "  Directory converted to https://raw.githubusercontent.com/eoap/schemas/main/string_format.yaml#URI\n",
      "  Connecting 'app/item' to 'stage_in_0' output...\n",
      "Analyzing pattern-1 outputs:\n",
      "* pattern-1/stac_catalog: Directory\n",
      "  Directory type detected, creating a related 'stage_out_0'...\n",
      "  Converting Directory to URL-compatible type...\n",
      "  Directory converted to https://raw.githubusercontent.com/eoap/schemas/main/string_format.yaml#URI\n",
      "  Connecting 'app/stac_catalog' to 'stage_out_0' output...\n",
      "Orchestrator Workflow built in 0.0016 seconds\n",
      "------------------------------------------------------------------------\n",
      "BUILD SUCCESS\n",
      "------------------------------------------------------------------------\n"
     ]
    },
    {
     "ename": "TypeError",
     "evalue": "to_yaml() takes 1 positional argument but 2 were given",
     "output_type": "error",
     "traceback": [
      "\u001b[31m---------------------------------------------------------------------------\u001b[39m",
      "\u001b[31mTypeError\u001b[39m                                 Traceback (most recent call last)",
      "\u001b[36mCell\u001b[39m\u001b[36m \u001b[39m\u001b[32mIn[1]\u001b[39m\u001b[32m, line 22\u001b[39m\n\u001b[32m     19\u001b[39m \u001b[38;5;28mprint\u001b[39m(\u001b[33m'\u001b[39m\u001b[33mBUILD SUCCESS\u001b[39m\u001b[33m'\u001b[39m)\n\u001b[32m     20\u001b[39m \u001b[38;5;28mprint\u001b[39m(\u001b[33m'\u001b[39m\u001b[33m------------------------------------------------------------------------\u001b[39m\u001b[33m'\u001b[39m)\n\u001b[32m---> \u001b[39m\u001b[32m22\u001b[39m yaml_workflow = \u001b[43mto_yaml\u001b[49m\u001b[43m(\u001b[49m\u001b[43mmain_workflow\u001b[49m\u001b[43m,\u001b[49m\u001b[43m \u001b[49m\u001b[43msys\u001b[49m\u001b[43m.\u001b[49m\u001b[43mstdout\u001b[49m\u001b[43m)\u001b[49m\n",
      "\u001b[31mTypeError\u001b[39m: to_yaml() takes 1 positional argument but 2 were given"
     ]
    }
   ],
   "source": [
    "from eoap_cwlwrap import wrap\n",
    "from eoap_cwlwrap.loader import ( load_workflow, dump_workflow )\n",
    "from ruamel.yaml import YAML\n",
    "import sys\n",
    "\n",
    "stage_in_cwl = load_workflow(path='https://raw.githubusercontent.com/EOEPCA/eoap-cwlwrap/refs/heads/main/tests/templates/directory-stage-in.cwl')\n",
    "workflows_cwl = load_workflow(path='https://raw.githubusercontent.com/EOEPCA/eoap-cwlwrap/refs/heads/main/tests/pattern-1/workflow.cwl')\n",
    "workflow_id = 'pattern-1'\n",
    "stage_out_cwl = load_workflow(path='https://raw.githubusercontent.com/EOEPCA/eoap-cwlwrap/refs/heads/main/tests/templates/stage-out.cwl')\n",
    "\n",
    "main_workflow = wrap(\n",
    "    directory_stage_in=stage_in_cwl,\n",
    "    workflows=workflows_cwl,\n",
    "    workflow_id=workflow_id,\n",
    "    stage_out=stage_out_cwl\n",
    ")\n",
    "\n",
    "print('------------------------------------------------------------------------')\n",
    "print('BUILD SUCCESS')\n",
    "print('------------------------------------------------------------------------')\n",
    "\n",
    "yaml_workflow = dump_workflow(main_workflow, sys.stdout)"
   ]
  },
  {
   "cell_type": "markdown",
   "id": "97e41408",
   "metadata": {},
   "source": [
    "## Workflow Diagram\n",
    "\n",
    "![file](../diagrams/pattern-1/workflow.svg)\n",
    "\n",
    "## Components Diagram\n",
    "\n",
    "![file](../diagrams/pattern-1/components.svg)\n",
    "\n",
    "## Class Diagram\n",
    "\n",
    "![file](../diagrams/pattern-1/class.svg)\n"
   ]
  }
 ],
 "metadata": {
  "kernelspec": {
   "display_name": ".venv",
   "language": "python",
   "name": "python3"
  },
  "language_info": {
   "codemirror_mode": {
    "name": "ipython",
    "version": 3
   },
   "file_extension": ".py",
   "mimetype": "text/x-python",
   "name": "python",
   "nbconvert_exporter": "python",
   "pygments_lexer": "ipython3",
   "version": "3.13.5"
  }
 },
 "nbformat": 4,
 "nbformat_minor": 5
}
